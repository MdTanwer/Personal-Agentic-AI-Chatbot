{
 "cells": [
  {
   "cell_type": "code",
   "execution_count": 1,
   "metadata": {},
   "outputs": [],
   "source": [
    "import os\n",
    "\n",
    "GROQ_API_KEY=os.environ.get(\"GROQ_API_KEY\")\n",
    "TAVILY_API_KEY=os.environ.get(\"TAVILY_API_KEY\")\n",
    "OPENAI_API_KEY=os.environ.get(\"OPENAI_API_KEY\")"
   ]
  },
  {
   "cell_type": "code",
   "execution_count": 2,
   "metadata": {},
   "outputs": [],
   "source": [
    "from langchain_groq import ChatGroq\n",
    "from langchain_openai import ChatOpenAI\n",
    "from langchain_community.tools.tavily_search import TavilySearchResults"
   ]
  },
  {
   "cell_type": "code",
   "execution_count": 3,
   "metadata": {},
   "outputs": [],
   "source": [
    "openai_llm=ChatOpenAI(model=\"gpt-4o-mini\")\n",
    "groq_llm=ChatGroq(model=\"llama-3.3-70b-versatile\")\n",
    "\n",
    "search_tool=TavilySearchResults(max_results=2)"
   ]
  },
  {
   "cell_type": "code",
   "execution_count": 4,
   "metadata": {},
   "outputs": [],
   "source": [
    "#Step3: Setup AI Agent with Search tool functionality\n",
    "from langgraph.prebuilt import create_react_agent\n",
    "from langchain_core.messages.ai import AIMessage"
   ]
  },
  {
   "cell_type": "code",
   "execution_count": 5,
   "metadata": {},
   "outputs": [],
   "source": [
    "system_prompt=\"Act as an AI chatbot who is smart and friendly\""
   ]
  },
  {
   "cell_type": "code",
   "execution_count": 7,
   "metadata": {},
   "outputs": [],
   "source": [
    "llm=ChatOpenAI(model=\"gpt-4o-mini\")"
   ]
  },
  {
   "cell_type": "code",
   "execution_count": null,
   "metadata": {},
   "outputs": [
    {
     "ename": "ValueError",
     "evalue": "The first argument must be a string or a callable with a __name__ for tool decorator. Got <class 'tuple'>",
     "output_type": "error",
     "traceback": [
      "\u001b[1;31m---------------------------------------------------------------------------\u001b[0m",
      "\u001b[1;31mValueError\u001b[0m                                Traceback (most recent call last)",
      "Cell \u001b[1;32mIn[8], line 1\u001b[0m\n\u001b[1;32m----> 1\u001b[0m agent\u001b[38;5;241m=\u001b[39mcreate_react_agent(\n\u001b[0;32m      2\u001b[0m         model\u001b[38;5;241m=\u001b[39mllm,\n\u001b[0;32m      3\u001b[0m         tools\u001b[38;5;241m=\u001b[39msearch_tool,\n\u001b[0;32m      4\u001b[0m         state_modifier\u001b[38;5;241m=\u001b[39msystem_prompt\n\u001b[0;32m      5\u001b[0m     )\n",
      "File \u001b[1;32mc:\\Users\\tanw9\\anaconda3\\envs\\myenv\\Lib\\site-packages\\langgraph\\_api\\deprecation.py:80\u001b[0m, in \u001b[0;36mdeprecated_parameter.<locals>.decorator.<locals>.wrapper\u001b[1;34m(*args, **kwargs)\u001b[0m\n\u001b[0;32m     72\u001b[0m \u001b[38;5;28;01mif\u001b[39;00m arg_name \u001b[38;5;129;01min\u001b[39;00m kwargs:\n\u001b[0;32m     73\u001b[0m     warnings\u001b[38;5;241m.\u001b[39mwarn(\n\u001b[0;32m     74\u001b[0m         \u001b[38;5;124mf\u001b[39m\u001b[38;5;124m\"\u001b[39m\u001b[38;5;124mParameter \u001b[39m\u001b[38;5;124m'\u001b[39m\u001b[38;5;132;01m{\u001b[39;00marg_name\u001b[38;5;132;01m}\u001b[39;00m\u001b[38;5;124m'\u001b[39m\u001b[38;5;124m in function \u001b[39m\u001b[38;5;124m'\u001b[39m\u001b[38;5;132;01m{\u001b[39;00mfunc\u001b[38;5;241m.\u001b[39m\u001b[38;5;18m__name__\u001b[39m\u001b[38;5;132;01m}\u001b[39;00m\u001b[38;5;124m'\u001b[39m\u001b[38;5;124m is \u001b[39m\u001b[38;5;124m\"\u001b[39m\n\u001b[0;32m     75\u001b[0m         \u001b[38;5;124mf\u001b[39m\u001b[38;5;124m\"\u001b[39m\u001b[38;5;124mdeprecated as of version \u001b[39m\u001b[38;5;132;01m{\u001b[39;00msince\u001b[38;5;132;01m}\u001b[39;00m\u001b[38;5;124m and will be removed in version \u001b[39m\u001b[38;5;132;01m{\u001b[39;00mremoval\u001b[38;5;132;01m}\u001b[39;00m\u001b[38;5;124m. \u001b[39m\u001b[38;5;124m\"\u001b[39m\n\u001b[1;32m   (...)\u001b[0m\n\u001b[0;32m     78\u001b[0m         stacklevel\u001b[38;5;241m=\u001b[39m\u001b[38;5;241m2\u001b[39m,\n\u001b[0;32m     79\u001b[0m     )\n\u001b[1;32m---> 80\u001b[0m \u001b[38;5;28;01mreturn\u001b[39;00m func(\u001b[38;5;241m*\u001b[39margs, \u001b[38;5;241m*\u001b[39m\u001b[38;5;241m*\u001b[39mkwargs)\n",
      "File \u001b[1;32mc:\\Users\\tanw9\\anaconda3\\envs\\myenv\\Lib\\site-packages\\langgraph\\prebuilt\\chat_agent_executor.py:594\u001b[0m, in \u001b[0;36mcreate_react_agent\u001b[1;34m(model, tools, state_schema, messages_modifier, state_modifier, response_format, checkpointer, store, interrupt_before, interrupt_after, debug)\u001b[0m\n\u001b[0;32m    592\u001b[0m     tool_node \u001b[38;5;241m=\u001b[39m tools\n\u001b[0;32m    593\u001b[0m \u001b[38;5;28;01melse\u001b[39;00m:\n\u001b[1;32m--> 594\u001b[0m     tool_node \u001b[38;5;241m=\u001b[39m ToolNode(tools)\n\u001b[0;32m    595\u001b[0m     \u001b[38;5;66;03m# get the tool functions wrapped in a tool class from the ToolNode\u001b[39;00m\n\u001b[0;32m    596\u001b[0m     tool_classes \u001b[38;5;241m=\u001b[39m \u001b[38;5;28mlist\u001b[39m(tool_node\u001b[38;5;241m.\u001b[39mtools_by_name\u001b[38;5;241m.\u001b[39mvalues())\n",
      "File \u001b[1;32mc:\\Users\\tanw9\\anaconda3\\envs\\myenv\\Lib\\site-packages\\langgraph\\prebuilt\\tool_node.py:199\u001b[0m, in \u001b[0;36mToolNode.__init__\u001b[1;34m(self, tools, name, tags, handle_tool_errors, messages_key)\u001b[0m\n\u001b[0;32m    197\u001b[0m \u001b[38;5;28;01mfor\u001b[39;00m tool_ \u001b[38;5;129;01min\u001b[39;00m tools:\n\u001b[0;32m    198\u001b[0m     \u001b[38;5;28;01mif\u001b[39;00m \u001b[38;5;129;01mnot\u001b[39;00m \u001b[38;5;28misinstance\u001b[39m(tool_, BaseTool):\n\u001b[1;32m--> 199\u001b[0m         tool_ \u001b[38;5;241m=\u001b[39m create_tool(tool_)\n\u001b[0;32m    200\u001b[0m     \u001b[38;5;28mself\u001b[39m\u001b[38;5;241m.\u001b[39mtools_by_name[tool_\u001b[38;5;241m.\u001b[39mname] \u001b[38;5;241m=\u001b[39m tool_\n\u001b[0;32m    201\u001b[0m     \u001b[38;5;28mself\u001b[39m\u001b[38;5;241m.\u001b[39mtool_to_state_args[tool_\u001b[38;5;241m.\u001b[39mname] \u001b[38;5;241m=\u001b[39m _get_state_args(tool_)\n",
      "File \u001b[1;32mc:\\Users\\tanw9\\anaconda3\\envs\\myenv\\Lib\\site-packages\\langchain_core\\tools\\convert.py:322\u001b[0m, in \u001b[0;36mtool\u001b[1;34m(name_or_callable, runnable, return_direct, args_schema, infer_schema, response_format, parse_docstring, error_on_invalid_docstring, *args)\u001b[0m\n\u001b[0;32m    317\u001b[0m     \u001b[38;5;28;01melse\u001b[39;00m:\n\u001b[0;32m    318\u001b[0m         msg \u001b[38;5;241m=\u001b[39m (\n\u001b[0;32m    319\u001b[0m             \u001b[38;5;124mf\u001b[39m\u001b[38;5;124m\"\u001b[39m\u001b[38;5;124mThe first argument must be a string or a callable with a __name__ \u001b[39m\u001b[38;5;124m\"\u001b[39m\n\u001b[0;32m    320\u001b[0m             \u001b[38;5;124mf\u001b[39m\u001b[38;5;124m\"\u001b[39m\u001b[38;5;124mfor tool decorator. Got \u001b[39m\u001b[38;5;132;01m{\u001b[39;00m\u001b[38;5;28mtype\u001b[39m(name_or_callable)\u001b[38;5;132;01m}\u001b[39;00m\u001b[38;5;124m\"\u001b[39m\n\u001b[0;32m    321\u001b[0m         )\n\u001b[1;32m--> 322\u001b[0m         \u001b[38;5;28;01mraise\u001b[39;00m \u001b[38;5;167;01mValueError\u001b[39;00m(msg)\n\u001b[0;32m    323\u001b[0m \u001b[38;5;28;01melse\u001b[39;00m:\n\u001b[0;32m    324\u001b[0m     \u001b[38;5;66;03m# Tool is used as a decorator with parameters specified\u001b[39;00m\n\u001b[0;32m    325\u001b[0m     \u001b[38;5;66;03m# @tool(parse_docstring=True)\u001b[39;00m\n\u001b[0;32m    326\u001b[0m     \u001b[38;5;66;03m# def my_tool():\u001b[39;00m\n\u001b[0;32m    327\u001b[0m     \u001b[38;5;66;03m#    pass\u001b[39;00m\n\u001b[0;32m    328\u001b[0m     \u001b[38;5;28;01mdef\u001b[39;00m \u001b[38;5;21m_partial\u001b[39m(func: Union[Callable, Runnable]) \u001b[38;5;241m-\u001b[39m\u001b[38;5;241m>\u001b[39m BaseTool:\n",
      "\u001b[1;31mValueError\u001b[0m: The first argument must be a string or a callable with a __name__ for tool decorator. Got <class 'tuple'>"
     ]
    }
   ],
   "source": [
    "agent=create_react_agent(\n",
    "        model=openai_llm,\n",
    "        tools=search_tool,\n",
    "        state_modifier=system_prompt\n",
    "    )"
   ]
  }
 ],
 "metadata": {
  "kernelspec": {
   "display_name": "myenv",
   "language": "python",
   "name": "python3"
  },
  "language_info": {
   "codemirror_mode": {
    "name": "ipython",
    "version": 3
   },
   "file_extension": ".py",
   "mimetype": "text/x-python",
   "name": "python",
   "nbconvert_exporter": "python",
   "pygments_lexer": "ipython3",
   "version": "3.11.11"
  }
 },
 "nbformat": 4,
 "nbformat_minor": 2
}
